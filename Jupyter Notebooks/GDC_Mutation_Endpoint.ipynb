{
 "cells": [
  {
   "cell_type": "code",
   "execution_count": 232,
   "metadata": {},
   "outputs": [],
   "source": [
    "%matplotlib inline\n",
    "\n",
    "# This module extracts inforation about mutations for a specific cohort\n",
    "\n",
    "# Import libraries\n",
    "import requests\n",
    "import json\n",
    "import collections\n",
    "import matplotlib.pyplot as plt\n",
    "from collections import Counter\n",
    "\n",
    "def FetchData(Endpoint, Filters, Fields, Size):\n",
    "    API_URL = 'https://gdc-api.nci.nih.gov/'\n",
    "    Request = API_URL + Endpoint + '?' + 'filters=' + Filters + '&' + 'fields=' + Fields + '&' + 'size=' + Size\n",
    "    r = requests.get(Request)\n",
    "    data = json.loads(r.text)\n",
    "    return data['data']['hits']\n",
    "\n",
    "def ExtractTransversions(DNA_Changes):\n",
    "    transversions=[]\n",
    "    for dna_change in DNA_Changes:\n",
    "        loc = dna_change['genomic_dna_change'].find('>') - 1\n",
    "        if loc > 0:\n",
    "            transversions.append(dna_change['genomic_dna_change'][loc:])\n",
    "    return transversions\n",
    "\n",
    "def ExtractInsertions(DNA_Changes):\n",
    "    insertions=[]\n",
    "    for dna_change in DNA_Changes:\n",
    "        loc = dna_change['genomic_dna_change'].find('ins')\n",
    "        if loc > 0:\n",
    "            insertions.append('ins')\n",
    "    return insertions\n",
    "\n",
    "def ExtractDeletions(DNA_Changes):\n",
    "    deletions=[]\n",
    "    for dna_change in DNA_Changes:\n",
    "        loc = dna_change['genomic_dna_change'].find('del')\n",
    "        if loc > 0:\n",
    "            deletions.append('del')\n",
    "    return deletions\n",
    "\n",
    "def ExtractChrPos(DNA_Changes):\n",
    "    chrpos=[]\n",
    "    for dna_change in DNA_Changes:\n",
    "        loc = dna_change['genomic_dna_change'].find(':')\n",
    "        if loc > 0:\n",
    "            chrpos.append(dna_change['genomic_dna_change'][0:loc])\n",
    "    return chrpos\n",
    "\n",
    "def PlotData(Data):\n",
    "    Counted_Data = Counter(Data)\n",
    "    Sorted_Data = collections.OrderedDict(sorted(Counted_Data.items()))\n",
    "    l = range(len(Sorted_Data))\n",
    "    plt.bar(l, Sorted_Data.values(), align='center')\n",
    "    plt.xticks(l, Sorted_Data.keys())\n",
    "    plt.xticks(rotation=40)\n",
    "\n",
    "def CalcPercentages(PSites, AllData):\n",
    "    Percentages = []\n",
    "    Total_Percentages = []\n",
    "    for i in range(len(PSites)):\n",
    "        for j in range(len(AllData[0])):\n",
    "            try:\n",
    "                gotdata = Data[i][j]\n",
    "            except IndexError:\n",
    "                gotdata = 0\n",
    "            Percent = gotdata / sum(Data[i]) * 100\n",
    "            Percentages.append(Percent)\n",
    "        Total_Percentages.append(Percentages)\n",
    "        Percentages = []\n",
    "    return Total_Percentages"
   ]
  },
  {
   "cell_type": "code",
   "execution_count": 225,
   "metadata": {},
   "outputs": [],
   "source": [
    "# Perform API Requests for various primary sites\n",
    "\n",
    "import numpy as np\n",
    "import matplotlib.pyplot as plt\n",
    "import seaborn as sns\n",
    "import pandas as pd\n",
    "\n",
    "Primary_Sites = ['Breast', 'Lung', 'Skin', 'Brain', 'Kidney', 'Uterus','Bladder','Colorectal', \\\n",
    "                 'Liver', 'Prostate', 'Ovary','Cervix','Esophagus','Pancreas']\n",
    "\n",
    "# Perform API Queries to generate matrix of data\n",
    "PS_Data = []\n",
    "for PS in Primary_Sites:\n",
    "    EP = 'ssms'\n",
    "    Filt = '%7B%22op%22%3A%22and%22%2C%22content%22%3A%5B%7B%22op%22%3A%22in%22%2C%22content%22%3A%7B%22field%22%3A%22cases.primary_site%22%2C%22value%22%3A%5B%22' + PS + '%22%5D%7D%7D%5D%7D'\n",
    "    F = 'genomic_dna_change'\n",
    "    S = '200000'\n",
    "    Data = FetchData(EP,Filt,F,S)\n",
    "    PS_Data.append(Data)\n"
   ]
  },
  {
   "cell_type": "code",
   "execution_count": 237,
   "metadata": {},
   "outputs": [],
   "source": [
    "Data = []\n",
    "Cls = []\n",
    "\n",
    "# Loop through the data to count the transversions / transitions\n",
    "for i in range(len(PS_Data)):\n",
    "    # Grab Transversion / Transitions / Insertions / Deletions\n",
    "    T = ExtractTransversions(PS_Data[i])\n",
    "    I = ExtractInsertions(PS_Data[i])\n",
    "    D = ExtractDeletions(PS_Data[i])\n",
    "    \n",
    "    # Count\n",
    "    Counted_Data = Counter(T)\n",
    "    Counted_Insertions = (Counter(I))\n",
    "    Counted_Deletions = (Counter(D))\n",
    "    \n",
    "    #Sort\n",
    "    Sorted_Data = collections.OrderedDict(sorted(Counted_Data.items()))\n",
    "    Data.append(list(Sorted_Data.values()))\n",
    "    Cls.append(list(Sorted_Data.keys()))\n",
    "    \n",
    "    #Append Insertions and Deletions to the table\n",
    "    Data[i].append(list(Counted_Insertions.values())[0])\n",
    "    Cls[i].append('ins')\n",
    "    \n",
    "    Data[i].append(list(Counted_Deletions.values())[0])\n",
    "    Cls[i].append('del')\n",
    "\n",
    "# Calculate Percentages    \n",
    "Pcts = CalcPercentages(Primary_Sites, Data)"
   ]
  },
  {
   "cell_type": "code",
   "execution_count": 238,
   "metadata": {},
   "outputs": [
    {
     "data": {
      "text/plain": [
       "<matplotlib.text.Text at 0x11b0be518>"
      ]
     },
     "execution_count": 238,
     "metadata": {},
     "output_type": "execute_result"
    },
    {
     "data": {
      "image/png": "[encoded data removed]",
      "text/plain": [
       "<matplotlib.figure.Figure at 0x1447ff4a8>"
      ]
     },
     "metadata": {},
     "output_type": "display_data"
    }
   ],
   "source": [
    "# Create a heat map of the data\n",
    "data = pd.DataFrame(Pcts, columns= Cls[0], index = Primary_Sites)\n",
    "\n",
    "ax = sns.heatmap(data.T)\n",
    "\n",
    "# turn the axis label\n",
    "for item in ax.get_yticklabels():\n",
    "    item.set_rotation(0)\n",
    "\n",
    "for item in ax.get_xticklabels():\n",
    "    item.set_rotation(50)\n",
    "\n",
    "ax.set_title('Transversion/Transition Frequency (%)')"
   ]
  },
  {
   "cell_type": "code",
   "execution_count": 240,
   "metadata": {},
   "outputs": [],
   "source": [
    "# Create heat map of mutation frequency for chromosomal position\n",
    "Data = []\n",
    "Cls = []\n",
    "\n",
    "for i in range(len(PS_Data)):\n",
    "    # Grab Chromosomal Position\n",
    "    chrpos = ExtractChrPos(PS_Data[i])\n",
    "    \n",
    "    # Count\n",
    "    Counted_chrpos = (Counter(chrpos))\n",
    "    \n",
    "    #Sort\n",
    "    Sorted_Data = collections.OrderedDict(sorted(Counted_chrpos.items()))\n",
    "    Data.append(list(Sorted_Data.values()))\n",
    "    Cls.append(list(Sorted_Data.keys()))\n",
    "\n",
    "    \n",
    "# Calculate Percentages\n",
    "# Calculate Percentages \n",
    "Pcts = []\n",
    "Pcts = CalcPercentages(Primary_Sites, Data)"
   ]
  },
  {
   "cell_type": "code",
   "execution_count": 241,
   "metadata": {},
   "outputs": [
    {
     "data": {
      "text/plain": [
       "<matplotlib.text.Text at 0x116ccde48>"
      ]
     },
     "execution_count": 241,
     "metadata": {},
     "output_type": "execute_result"
    },
    {
     "data": {
      "image/png": "[encoded data removed]",
      "text/plain": [
       "<matplotlib.figure.Figure at 0x1628108d0>"
      ]
     },
     "metadata": {},
     "output_type": "display_data"
    }
   ],
   "source": [
    "# Create a heat map of the data\n",
    "data = pd.DataFrame(Pcts, columns= Cls[0], index = Primary_Sites)\n",
    "\n",
    "ax = sns.heatmap(data.T)\n",
    "\n",
    "# turn the axis label\n",
    "for item in ax.get_yticklabels():\n",
    "    item.set_rotation(0)\n",
    "\n",
    "for item in ax.get_xticklabels():\n",
    "    item.set_rotation(50)\n",
    "\n",
    "ax.set_title('Chromosomal Position Mutation Frequency (%)')"
   ]
  },
  {
   "cell_type": "code",
   "execution_count": null,
   "metadata": {
    "collapsed": true
   },
   "outputs": [],
   "source": []
  }
 ],
 "metadata": {
  "kernelspec": {
   "display_name": "Python 3",
   "language": "python",
   "name": "python3"
  },
  "language_info": {
   "codemirror_mode": {
    "name": "ipython",
    "version": 3
   },
   "file_extension": ".py",
   "mimetype": "text/x-python",
   "name": "python",
   "nbconvert_exporter": "python",
   "pygments_lexer": "ipython3",
   "version": "3.6.0"
  }
 },
 "nbformat": 4,
 "nbformat_minor": 2
}
